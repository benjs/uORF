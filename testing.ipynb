{
 "cells": [
  {
   "cell_type": "code",
   "execution_count": 2,
   "metadata": {},
   "outputs": [],
   "source": [
    "import importlib\n",
    "import models.mip_nerf as mipnerf\n",
    "import torch"
   ]
  },
  {
   "cell_type": "code",
   "execution_count": 3,
   "metadata": {},
   "outputs": [
    {
     "data": {
      "text/plain": [
       "'1.7.1'"
      ]
     },
     "execution_count": 3,
     "metadata": {},
     "output_type": "execute_result"
    }
   ],
   "source": [
    "torch.__version__"
   ]
  },
  {
   "cell_type": "code",
   "execution_count": 5,
   "metadata": {},
   "outputs": [
    {
     "ename": "RuntimeError",
     "evalue": "Found no NVIDIA driver on your system. Please check that you have an NVIDIA GPU and installed a driver from http://www.nvidia.com/Download/index.aspx",
     "output_type": "error",
     "traceback": [
      "\u001b[0;31m---------------------------------------------------------------------------\u001b[0m",
      "\u001b[0;31mRuntimeError\u001b[0m                              Traceback (most recent call last)",
      "\u001b[1;32m/home/kit/anthropomatik/nn3900/mip_uORF/testing.ipynb Cell 3'\u001b[0m in \u001b[0;36m<module>\u001b[0;34m\u001b[0m\n\u001b[1;32m      <a href='vscode-notebook-cell://ssh-remote%2Bunicluster/home/kit/anthropomatik/nn3900/mip_uORF/testing.ipynb#ch0000002vscode-remote?line=0'>1</a>\u001b[0m \u001b[39m# importlib.reload(mipnerf)\u001b[39;00m\n\u001b[1;32m      <a href='vscode-notebook-cell://ssh-remote%2Bunicluster/home/kit/anthropomatik/nn3900/mip_uORF/testing.ipynb#ch0000002vscode-remote?line=1'>2</a>\u001b[0m a \u001b[39m=\u001b[39m torch\u001b[39m.\u001b[39mtensor(\u001b[39m2\u001b[39m)\n\u001b[0;32m----> <a href='vscode-notebook-cell://ssh-remote%2Bunicluster/home/kit/anthropomatik/nn3900/mip_uORF/testing.ipynb#ch0000002vscode-remote?line=2'>3</a>\u001b[0m a\u001b[39m.\u001b[39;49mto(\u001b[39m'\u001b[39;49m\u001b[39mcuda\u001b[39;49m\u001b[39m'\u001b[39;49m)\n",
      "File \u001b[0;32m~/.conda/envs/uorf-3090/lib/python3.8/site-packages/torch/cuda/__init__.py:172\u001b[0m, in \u001b[0;36m_lazy_init\u001b[0;34m()\u001b[0m\n\u001b[1;32m    <a href='file:///~/.conda/envs/uorf-3090/lib/python3.8/site-packages/torch/cuda/__init__.py?line=167'>168</a>\u001b[0m     \u001b[39mraise\u001b[39;00m \u001b[39mAssertionError\u001b[39;00m(\n\u001b[1;32m    <a href='file:///~/.conda/envs/uorf-3090/lib/python3.8/site-packages/torch/cuda/__init__.py?line=168'>169</a>\u001b[0m         \u001b[39m\"\u001b[39m\u001b[39mlibcudart functions unavailable. It looks like you have a broken build?\u001b[39m\u001b[39m\"\u001b[39m)\n\u001b[1;32m    <a href='file:///~/.conda/envs/uorf-3090/lib/python3.8/site-packages/torch/cuda/__init__.py?line=169'>170</a>\u001b[0m \u001b[39m# This function throws if there's a driver initialization error, no GPUs\u001b[39;00m\n\u001b[1;32m    <a href='file:///~/.conda/envs/uorf-3090/lib/python3.8/site-packages/torch/cuda/__init__.py?line=170'>171</a>\u001b[0m \u001b[39m# are found or any other error occurs\u001b[39;00m\n\u001b[0;32m--> <a href='file:///~/.conda/envs/uorf-3090/lib/python3.8/site-packages/torch/cuda/__init__.py?line=171'>172</a>\u001b[0m torch\u001b[39m.\u001b[39;49m_C\u001b[39m.\u001b[39;49m_cuda_init()\n\u001b[1;32m    <a href='file:///~/.conda/envs/uorf-3090/lib/python3.8/site-packages/torch/cuda/__init__.py?line=172'>173</a>\u001b[0m \u001b[39m# Some of the queued calls may reentrantly call _lazy_init();\u001b[39;00m\n\u001b[1;32m    <a href='file:///~/.conda/envs/uorf-3090/lib/python3.8/site-packages/torch/cuda/__init__.py?line=173'>174</a>\u001b[0m \u001b[39m# we need to just return without initializing in that case.\u001b[39;00m\n\u001b[1;32m    <a href='file:///~/.conda/envs/uorf-3090/lib/python3.8/site-packages/torch/cuda/__init__.py?line=174'>175</a>\u001b[0m \u001b[39m# However, we must not let any *other* threads in!\u001b[39;00m\n\u001b[1;32m    <a href='file:///~/.conda/envs/uorf-3090/lib/python3.8/site-packages/torch/cuda/__init__.py?line=175'>176</a>\u001b[0m _tls\u001b[39m.\u001b[39mis_initializing \u001b[39m=\u001b[39m \u001b[39mTrue\u001b[39;00m\n",
      "\u001b[0;31mRuntimeError\u001b[0m: Found no NVIDIA driver on your system. Please check that you have an NVIDIA GPU and installed a driver from http://www.nvidia.com/Download/index.aspx"
     ]
    }
   ],
   "source": [
    "# importlib.reload(mipnerf)"
   ]
  },
  {
   "cell_type": "code",
   "execution_count": 3,
   "metadata": {},
   "outputs": [],
   "source": [
    "import pytorch_lightning as pl\n",
    "from data import MultiscenesDataModule\n",
    "from util.options import parse_custom_options\n",
    "import shlex"
   ]
  },
  {
   "cell_type": "code",
   "execution_count": 4,
   "metadata": {},
   "outputs": [],
   "source": [
    "args = \"\"\"\n",
    "--train_dataroot '../data_uORF/1200shape_50bg'  --test_dataroot \"\" \\\n",
    "    --n_scenes 1 --n_img_each_scene 4 --display_grad \\\n",
    "    --load_size 128 --n_samp 64 --input_size 128 --supervision_size 64 --coarse_epoch 120 \\\n",
    "    --no_locality_epoch 60 --z_dim 64 --num_slots 5 --bottom \\\n",
    "    --batch_size 1 --num_threads 10 \\\n",
    "\"\"\""
   ]
  },
  {
   "cell_type": "code",
   "execution_count": 5,
   "metadata": {},
   "outputs": [
    {
     "name": "stderr",
     "output_type": "stream",
     "text": [
      "Global seed set to 2021\n"
     ]
    }
   ],
   "source": [
    "%%capture\n",
    "opt = parse_custom_options(shlex.split(args))\n",
    "pl.seed_everything(opt.seed)"
   ]
  },
  {
   "cell_type": "code",
   "execution_count": 6,
   "metadata": {},
   "outputs": [
    {
     "name": "stdout",
     "output_type": "stream",
     "text": [
      "Fetching train dataset ...\n"
     ]
    }
   ],
   "source": [
    "\n",
    "dataset = MultiscenesDataModule(opt)  # create a dataset given opt.dataset_mode and other options\n",
    "dataset.setup(\"fit\")"
   ]
  },
  {
   "cell_type": "code",
   "execution_count": 7,
   "metadata": {},
   "outputs": [],
   "source": [
    "importlib.reload(mipnerf)\n",
    "model = mipnerf.MipNerf()\n",
    "proj = mipnerf.MipProjection(frustum_size=[64, 64, 64])"
   ]
  },
  {
   "cell_type": "code",
   "execution_count": 10,
   "metadata": {},
   "outputs": [
    {
     "name": "stdout",
     "output_type": "stream",
     "text": [
      "fixed locality\n"
     ]
    }
   ],
   "source": [
    "model.to('cuda')\n",
    "\n",
    "for batch_idx, batch in enumerate(dataset.train_dataloader()):\n",
    "    imgs, cam2world, cam2world_azi = batch\n",
    "\n",
    "    imgs = imgs.to('cuda')\n",
    "    cam2world = cam2world.to('cuda')\n",
    "    cam2world_azi = cam2world_azi.to('cuda')\n",
    "    \n",
    "    B, S, C, H, W = imgs.shape\n",
    "\n",
    "    if opt.fixed_locality:\n",
    "        nss2cam0 = cam2world[:, 0:1].inverse()\n",
    "    else:\n",
    "        print(\"fixed locality\")\n",
    "        nss2cam0 = cam2world_azi[:, 0:1].inverse()\n",
    "    \n",
    "    N = B*S\n",
    "    cam2world = cam2world.view(N, 4, 4)\n",
    "    rays = proj.get_rays(cam2world)\n",
    "\n",
    "    z_vals = torch.ones(4, 64).type_as(imgs)\n",
    "    z_vals = z_vals.repeat(1, 64**2).view(S*64**2, 64)\n",
    "    \n",
    "    out = model(rays, z_vals)\n",
    "    "
   ]
  },
  {
   "cell_type": "code",
   "execution_count": 11,
   "metadata": {},
   "outputs": [
    {
     "data": {
      "text/plain": [
       "torch.Size([16384, 64, 30])"
      ]
     },
     "execution_count": 11,
     "metadata": {},
     "output_type": "execute_result"
    }
   ],
   "source": [
    "t_vals, samples = mipnerf.sample_along_rays(\n",
    "        rays.origins,\n",
    "        rays.directions,\n",
    "        rays.radii,\n",
    "        64,\n",
    "        rays.near,\n",
    "        rays.far\n",
    "    )\n",
    "\n",
    "samples_enc = mipnerf.integrated_pos_enc(\n",
    "    samples,\n",
    "    0,\n",
    "    5\n",
    ")\n",
    "\n",
    "viewdirs_enc = mipnerf.pos_enc(\n",
    "    rays.viewdirs,\n",
    "    0,\n",
    "    5\n",
    ")  # [400, 2*3*max_exp + 3]\n",
    "\n",
    "samples_enc.shape\n"
   ]
  },
  {
   "cell_type": "code",
   "execution_count": 19,
   "metadata": {},
   "outputs": [
    {
     "name": "stdout",
     "output_type": "stream",
     "text": [
      "tensor([0.0041, 0.0010, 0.0009], device='cuda:0')\n",
      "tensor([0.0044, 0.0021, 0.0021], device='cuda:0')\n",
      "tensor([0.0049, 0.0040, 0.0040], device='cuda:0')\n"
     ]
    }
   ],
   "source": [
    "print(samples[1][0, 0])\n",
    "print(samples[1][0, 32])\n",
    "print(samples[1][0, 63])"
   ]
  },
  {
   "cell_type": "code",
   "execution_count": 21,
   "metadata": {},
   "outputs": [
    {
     "name": "stdout",
     "output_type": "stream",
     "text": [
      "tensor([0.0022, 0.0004, 0.0033], device='cuda:0')\n",
      "tensor([0.0030, 0.0017, 0.0038], device='cuda:0')\n",
      "tensor([0.0043, 0.0038, 0.0046], device='cuda:0')\n"
     ]
    }
   ],
   "source": [
    "print(samples[1][8000, 0])\n",
    "print(samples[1][8000, 32])\n",
    "print(samples[1][8000, 63])"
   ]
  },
  {
   "cell_type": "code",
   "execution_count": 100,
   "metadata": {},
   "outputs": [
    {
     "name": "stdout",
     "output_type": "stream",
     "text": [
      "MipNerf(\n",
      "  (mlp): MipMLP(\n",
      "    (before_skip): Sequential(\n",
      "      (0): Linear(in_features=94, out_features=64, bias=True)\n",
      "      (1): ReLU(inplace=True)\n",
      "      (2): Linear(in_features=64, out_features=64, bias=True)\n",
      "      (3): ReLU(inplace=True)\n",
      "      (4): Linear(in_features=64, out_features=64, bias=True)\n",
      "      (5): ReLU(inplace=True)\n",
      "    )\n",
      "    (after_skip): Sequential(\n",
      "      (0): Linear(in_features=158, out_features=64, bias=True)\n",
      "      (1): ReLU(inplace=True)\n",
      "      (2): Linear(in_features=64, out_features=64, bias=True)\n",
      "      (3): ReLU(inplace=True)\n",
      "      (4): Linear(in_features=64, out_features=64, bias=True)\n",
      "      (5): ReLU(inplace=True)\n",
      "    )\n",
      "    (to_density): Linear(in_features=64, out_features=1, bias=True)\n",
      "    (condition_bottleneck): Linear(in_features=64, out_features=64, bias=True)\n",
      "    (condition_align): Sequential(\n",
      "      (0): Linear(in_features=97, out_features=32, bias=True)\n",
      "      (1): ReLU(inplace=True)\n",
      "    )\n",
      "    (to_rgb): Linear(in_features=32, out_features=3, bias=True)\n",
      "  )\n",
      "  (rgb_activation): Sigmoid()\n",
      "  (density_activation): Softplus(beta=1, threshold=20)\n",
      ")\n"
     ]
    }
   ],
   "source": [
    "print(model)"
   ]
  },
  {
   "cell_type": "code",
   "execution_count": null,
   "metadata": {},
   "outputs": [],
   "source": []
  }
 ],
 "metadata": {
  "interpreter": {
   "hash": "aaf78a186a1d6e0c4a65e466fece666bf3ffd142317b2e995ceac2a0e43c9c0a"
  },
  "kernelspec": {
   "display_name": "Python (uorf-env)",
   "language": "python",
   "name": "python3"
  },
  "language_info": {
   "codemirror_mode": {
    "name": "ipython",
    "version": 3
   },
   "file_extension": ".py",
   "mimetype": "text/x-python",
   "name": "python",
   "nbconvert_exporter": "python",
   "pygments_lexer": "ipython3",
   "version": "3.8.8"
  }
 },
 "nbformat": 4,
 "nbformat_minor": 4
}
